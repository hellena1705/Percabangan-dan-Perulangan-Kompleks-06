{
  "nbformat": 4,
  "nbformat_minor": 0,
  "metadata": {
    "colab": {
      "provenance": []
    },
    "kernelspec": {
      "name": "python3",
      "display_name": "Python 3"
    },
    "language_info": {
      "name": "python"
    }
  },
  "cells": [
    {
      "cell_type": "markdown",
      "source": [
        "soal 1"
      ],
      "metadata": {
        "id": "1-fxbc-oD_GC"
      }
    },
    {
      "cell_type": "code",
      "source": [
        "n = int(input(\"Masukkan bilangan: \"))\n",
        "prima = False\n",
        "\n",
        "for i in range(n -1, 1, -1):\n",
        "    prima = True\n",
        "    for j in range(2, i - 1):\n",
        "        if i % j == 0:\n",
        "            prima = False\n",
        "            break\n",
        "\n",
        "        if prima:\n",
        "            print(f\"Bilangan prima yang terdekat yang kurang dari {n} adalah {i}\")\n",
        "            break"
      ],
      "metadata": {
        "colab": {
          "base_uri": "https://localhost:8080/"
        },
        "id": "stzygXgRECC_",
        "outputId": "28e71d57-0acc-4abe-c196-90ac9b055eaf"
      },
      "execution_count": 1,
      "outputs": [
        {
          "output_type": "stream",
          "name": "stdout",
          "text": [
            "Masukkan bilangan: 21\n",
            "Bilangan prima yang terdekat yang kurang dari 21 adalah 19\n",
            "Bilangan prima yang terdekat yang kurang dari 21 adalah 17\n",
            "Bilangan prima yang terdekat yang kurang dari 21 adalah 15\n",
            "Bilangan prima yang terdekat yang kurang dari 21 adalah 13\n",
            "Bilangan prima yang terdekat yang kurang dari 21 adalah 11\n",
            "Bilangan prima yang terdekat yang kurang dari 21 adalah 9\n",
            "Bilangan prima yang terdekat yang kurang dari 21 adalah 7\n",
            "Bilangan prima yang terdekat yang kurang dari 21 adalah 5\n"
          ]
        }
      ]
    },
    {
      "cell_type": "markdown",
      "source": [
        "soal 2"
      ],
      "metadata": {
        "id": "G_X_FTxBEjjZ"
      }
    },
    {
      "cell_type": "code",
      "source": [
        "n = int(input(\"Masukkan n: \"))\n",
        "\n",
        "for i in range(0, n):\n",
        "    hasil = 1\n",
        "\n",
        "    for j in range(1, n - i + 1):\n",
        "        hasil *= j\n",
        "    print(hasil, \" \", end=\"\")\n",
        "\n",
        "    for k in range(n - i, 0, -1):\n",
        "        print(k, \" \", end=\"\")\n",
        "    print()"
      ],
      "metadata": {
        "colab": {
          "base_uri": "https://localhost:8080/"
        },
        "id": "SM0bS8YXEk4G",
        "outputId": "40902421-5155-47fe-b0d5-d4e027e35657"
      },
      "execution_count": 2,
      "outputs": [
        {
          "output_type": "stream",
          "name": "stdout",
          "text": [
            "Masukkan n: 6\n",
            "720  6  5  4  3  2  1  \n",
            "120  5  4  3  2  1  \n",
            "24  4  3  2  1  \n",
            "6  3  2  1  \n",
            "2  2  1  \n",
            "1  1  \n"
          ]
        }
      ]
    },
    {
      "cell_type": "markdown",
      "source": [
        "soal 3"
      ],
      "metadata": {
        "id": "6yeQ_t3GG8UU"
      }
    },
    {
      "cell_type": "code",
      "source": [
        "tinggi = int(input(\"Masukkan tinggi: \"))\n",
        "lebar = int(input(\"Masukkan lebar: \"))\n",
        "\n",
        "bilangan = 0\n",
        "for i in range(1, tinggi+1):\n",
        "    for i in range(1, lebar+1):\n",
        "        bilangan += 1\n",
        "        print(bilangan, \" \", end=\"\")\n",
        "    print()"
      ],
      "metadata": {
        "colab": {
          "base_uri": "https://localhost:8080/"
        },
        "id": "PgghuAhAG96d",
        "outputId": "5b65d28d-c0b8-4476-8676-d0d8858bc826"
      },
      "execution_count": 3,
      "outputs": [
        {
          "output_type": "stream",
          "name": "stdout",
          "text": [
            "Masukkan tinggi: 5\n",
            "Masukkan lebar: 4\n",
            "1  2  3  4  \n",
            "5  6  7  8  \n",
            "9  10  11  12  \n",
            "13  14  15  16  \n",
            "17  18  19  20  \n"
          ]
        }
      ]
    }
  ]
}